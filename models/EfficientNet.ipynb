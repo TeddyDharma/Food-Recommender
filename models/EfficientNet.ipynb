{
  "nbformat": 4,
  "nbformat_minor": 0,
  "metadata": {
    "colab": {
      "provenance": []
    },
    "kernelspec": {
      "name": "python3",
      "display_name": "Python 3"
    },
    "language_info": {
      "name": "python"
    }
  },
  "cells": [
    {
      "cell_type": "code",
      "execution_count": null,
      "metadata": {
        "colab": {
          "base_uri": "https://localhost:8080/"
        },
        "id": "F6tHkq0FTwDY",
        "outputId": "34f85e7d-0b3c-4683-a94a-980f2a434bd4"
      },
      "outputs": [
        {
          "output_type": "stream",
          "name": "stdout",
          "text": [
            "Mounted at /content/drive\n"
          ]
        }
      ],
      "source": [
        "from google.colab import drive\n",
        "drive.mount('/content/drive')"
      ]
    },
    {
      "cell_type": "code",
      "source": [
        "# Import library\n",
        "import pandas as pd\n",
        "import numpy as np\n",
        "import matplotlib.pyplot as plt\n",
        "import tensorflow as tf\n",
        "import tensorflow_hub as hub\n",
        "from tensorflow.keras import layers\n",
        "from tensorflow.keras import Model\n",
        "from tensorflow.keras.optimizers import RMSprop, Adam\n",
        "from tensorflow.keras.preprocessing.image import ImageDataGenerator\n",
        "from tensorflow.keras.models import Sequential\n",
        "from tensorflow.keras.layers import Dense\n",
        "from tensorflow.keras.preprocessing import image"
      ],
      "metadata": {
        "id": "5EBQiGiqUWm2"
      },
      "execution_count": null,
      "outputs": []
    },
    {
      "cell_type": "code",
      "source": [
        "# Path directory\n",
        "train_dir = \"/content/drive/MyDrive/Tugas Akhir BISA.AI Kelompok 6/images/train\"\n",
        "validation_dir = \"/content/drive/MyDrive/Tugas Akhir BISA.AI Kelompok 6/images/validation\""
      ],
      "metadata": {
        "id": "_u99G1FgUjVs"
      },
      "execution_count": null,
      "outputs": []
    },
    {
      "cell_type": "code",
      "source": [
        "# Generator function for training\n",
        "def train_val_generators(TRAINING_DIR, VALIDATION_DIR):\n",
        "  train_datagen = ImageDataGenerator(rescale=1./255.,\n",
        "                                     rotation_range=60,\n",
        "                                    #  width_shift_range=0.2,\n",
        "                                    #  height_shift_range=0.2,\n",
        "                                    #  shear_range=0.2,\n",
        "                                     zoom_range=0.2,\n",
        "                                     horizontal_flip=True,\n",
        "                                     fill_mode='nearest')\n",
        "\n",
        "  train_generator = train_datagen.flow_from_directory(directory=TRAINING_DIR,\n",
        "                                                      batch_size=10,\n",
        "                                                      class_mode='categorical',\n",
        "                                                      target_size=(224, 224))\n",
        "\n",
        "  validation_datagen = ImageDataGenerator(rescale=1./255.)\n",
        "\n",
        "  validation_generator = validation_datagen.flow_from_directory(directory=VALIDATION_DIR,\n",
        "                                                                batch_size=10,\n",
        "                                                                class_mode='categorical',\n",
        "                                                                target_size=(224, 224))\n",
        "  return train_generator, validation_generator"
      ],
      "metadata": {
        "id": "7vqaqh66U-6H"
      },
      "execution_count": null,
      "outputs": []
    },
    {
      "cell_type": "code",
      "source": [
        "train_generator, validation_generator = train_val_generators(train_dir, validation_dir)"
      ],
      "metadata": {
        "colab": {
          "base_uri": "https://localhost:8080/"
        },
        "id": "GOrxWPtlVg2Z",
        "outputId": "686906e7-9a82-4643-bb1f-fdc0ca2d5184"
      },
      "execution_count": null,
      "outputs": [
        {
          "output_type": "stream",
          "name": "stdout",
          "text": [
            "Found 398 images belonging to 10 classes.\n",
            "Found 101 images belonging to 10 classes.\n"
          ]
        }
      ]
    },
    {
      "cell_type": "code",
      "source": [
        "# Set efficient net transfer learning\n",
        "efficientnet = \"https://tfhub.dev/google/efficientnet/b0/feature-vector/1\""
      ],
      "metadata": {
        "id": "SeHakoaBVl6C"
      },
      "execution_count": null,
      "outputs": []
    },
    {
      "cell_type": "code",
      "source": [
        "# Create model object\n",
        "model = tf.keras.Sequential([\n",
        "    hub.KerasLayer(efficientnet, trainable=False),  # Set trainable=False to keep the pre-trained weights fixed\n",
        "])"
      ],
      "metadata": {
        "id": "Spj9HWxrVvXR"
      },
      "execution_count": null,
      "outputs": []
    },
    {
      "cell_type": "code",
      "source": [
        "# Add layers to model\n",
        "model.add(tf.keras.layers.Dense(512, activation='relu'))\n",
        "model.add(tf.keras.layers.Dropout(0.3))\n",
        "model.add(tf.keras.layers.Dense(10, activation='softmax'))\n",
        "model.compile(optimizer='adam',\n",
        "              loss='categorical_crossentropy',\n",
        "              metrics=['accuracy'])"
      ],
      "metadata": {
        "id": "A8QRB3PNV6pK"
      },
      "execution_count": null,
      "outputs": []
    },
    {
      "cell_type": "code",
      "source": [
        "# Create callbacks\n",
        "class myCallback(tf.keras.callbacks.Callback):\n",
        "  def on_epoch_end(self, epoch, logs={}):\n",
        "    if(logs.get('accuracy')>0.99):\n",
        "      print(\"\\nUdah 99% akurasinya!\")\n",
        "      self.model.stop_training = True"
      ],
      "metadata": {
        "id": "vC_3X2wZWFpV"
      },
      "execution_count": null,
      "outputs": []
    },
    {
      "cell_type": "code",
      "source": [
        "# Try modelling\n",
        "callbacks = myCallback()\n",
        "history = model.fit(train_generator,\n",
        "                    steps_per_epoch=4,\n",
        "                    epochs=100,\n",
        "                    validation_data=validation_generator,\n",
        "                    callbacks=callbacks)"
      ],
      "metadata": {
        "colab": {
          "base_uri": "https://localhost:8080/"
        },
        "id": "EeYHU46tWNmC",
        "outputId": "2393c361-ae17-4a20-e16b-246b7de8d115"
      },
      "execution_count": null,
      "outputs": [
        {
          "output_type": "stream",
          "name": "stdout",
          "text": [
            "Epoch 1/100\n",
            "4/4 [==============================] - 14s 3s/step - loss: 2.2000 - accuracy: 0.1500 - val_loss: 1.7759 - val_accuracy: 0.4059\n",
            "Epoch 2/100\n",
            "4/4 [==============================] - 13s 4s/step - loss: 1.5447 - accuracy: 0.4500 - val_loss: 1.3832 - val_accuracy: 0.6634\n",
            "Epoch 3/100\n",
            "4/4 [==============================] - 13s 4s/step - loss: 0.9476 - accuracy: 0.7000 - val_loss: 1.1395 - val_accuracy: 0.7030\n",
            "Epoch 4/100\n",
            "4/4 [==============================] - 14s 4s/step - loss: 1.7410 - accuracy: 0.5000 - val_loss: 0.7784 - val_accuracy: 0.7525\n",
            "Epoch 5/100\n",
            "4/4 [==============================] - 15s 5s/step - loss: 0.5512 - accuracy: 0.8500 - val_loss: 0.6112 - val_accuracy: 0.8911\n",
            "Epoch 6/100\n",
            "4/4 [==============================] - 14s 4s/step - loss: 0.6459 - accuracy: 0.8000 - val_loss: 0.5774 - val_accuracy: 0.8515\n",
            "Epoch 7/100\n",
            "4/4 [==============================] - 14s 5s/step - loss: 0.6383 - accuracy: 0.8500 - val_loss: 0.4356 - val_accuracy: 0.9010\n",
            "Epoch 8/100\n",
            "4/4 [==============================] - 13s 4s/step - loss: 0.4173 - accuracy: 0.9211 - val_loss: 0.3737 - val_accuracy: 0.9208\n",
            "Epoch 9/100\n",
            "4/4 [==============================] - 14s 4s/step - loss: 0.4213 - accuracy: 0.8500 - val_loss: 0.3285 - val_accuracy: 0.9208\n",
            "Epoch 10/100\n",
            "4/4 [==============================] - 10s 3s/step - loss: 0.2647 - accuracy: 0.9500 - val_loss: 0.2973 - val_accuracy: 0.9208\n",
            "Epoch 11/100\n",
            "4/4 [==============================] - 13s 4s/step - loss: 0.2116 - accuracy: 0.9500 - val_loss: 0.2670 - val_accuracy: 0.9307\n",
            "Epoch 12/100\n",
            "4/4 [==============================] - 14s 4s/step - loss: 0.2282 - accuracy: 0.9250 - val_loss: 0.2415 - val_accuracy: 0.9604\n",
            "Epoch 13/100\n",
            "4/4 [==============================] - 13s 4s/step - loss: 0.1926 - accuracy: 0.9250 - val_loss: 0.2324 - val_accuracy: 0.9703\n",
            "Epoch 14/100\n",
            "4/4 [==============================] - 13s 4s/step - loss: 0.1553 - accuracy: 0.9250 - val_loss: 0.2563 - val_accuracy: 0.9406\n",
            "Epoch 15/100\n",
            "4/4 [==============================] - 10s 3s/step - loss: 0.2042 - accuracy: 0.9750 - val_loss: 0.2727 - val_accuracy: 0.9307\n",
            "Epoch 16/100\n",
            "4/4 [==============================] - 10s 3s/step - loss: 0.2067 - accuracy: 0.9000 - val_loss: 0.2224 - val_accuracy: 0.9505\n",
            "Epoch 17/100\n",
            "4/4 [==============================] - ETA: 0s - loss: 0.0772 - accuracy: 1.0000\n",
            "Udah 99% akurasinya!\n",
            "4/4 [==============================] - 13s 4s/step - loss: 0.0772 - accuracy: 1.0000 - val_loss: 0.1843 - val_accuracy: 0.9703\n"
          ]
        }
      ]
    },
    {
      "cell_type": "code",
      "source": [
        "# Plot the training and validation accuracies for each epoch\n",
        "acc = history.history['accuracy']\n",
        "val_acc = history.history['val_accuracy']\n",
        "loss = history.history['loss']\n",
        "val_loss = history.history['val_loss']\n",
        "\n",
        "epochs = range(len(acc))\n",
        "\n",
        "plt.plot(epochs, acc, 'r', label='Training accuracy')\n",
        "plt.plot(epochs, val_acc, 'b', label='Validation accuracy')\n",
        "plt.title('Training and validation accuracy')\n",
        "plt.legend(loc=0)\n",
        "plt.figure()\n",
        "plt.show()"
      ],
      "metadata": {
        "colab": {
          "base_uri": "https://localhost:8080/",
          "height": 470
        },
        "id": "fu_p1N8sWQeD",
        "outputId": "34fbcf65-077c-4ec3-9eb9-2478da1835a2"
      },
      "execution_count": null,
      "outputs": [
        {
          "output_type": "display_data",
          "data": {
            "text/plain": [
              "<Figure size 640x480 with 1 Axes>"
            ],
            "image/png": "[encoded data removed]"
          },
          "metadata": {}
        },
        {
          "output_type": "display_data",
          "data": {
            "text/plain": [
              "<Figure size 640x480 with 0 Axes>"
            ]
          },
          "metadata": {}
        }
      ]
    },
    {
      "cell_type": "code",
      "source": [
        "''' Ini buat save modelnya '''\n",
        "\n",
        "# # Specify the file path to save the model\n",
        "# model_path = 'model_efficient_net.h5'\n",
        "\n",
        "# # Save the model\n",
        "# model.save(model_path)"
      ],
      "metadata": {
        "colab": {
          "base_uri": "https://localhost:8080/",
          "height": 36
        },
        "id": "SCrtK_SEb8e3",
        "outputId": "1929beb5-d651-40ee-ca97-8c9d3d798ac0"
      },
      "execution_count": null,
      "outputs": [
        {
          "output_type": "execute_result",
          "data": {
            "text/plain": [
              "' Ini buat save modelnya '"
            ],
            "application/vnd.google.colaboratory.intrinsic+json": {
              "type": "string"
            }
          },
          "metadata": {},
          "execution_count": 25
        }
      ]
    },
    {
      "cell_type": "code",
      "source": [
        "''' Ini buat ngetes hasilnya '''\n",
        "\n",
        "# testing_dir = 'blom ada'\n",
        "# class_labels = ['sate_ayam',\n",
        "#                 'ayam_betutu',\n",
        "#                 'lemang',\n",
        "#                 'rawon',\n",
        "#                 'kerak_telor',\n",
        "#                 'gado_gado',\n",
        "#                 'bika_ambon',\n",
        "#                 'ayam_pop',\n",
        "#                 'pempek',\n",
        "#                 'rendang'\n",
        "#                 ]\n",
        "\n",
        "# # Load and preprocess the image\n",
        "# for filename in testing_dir:\n",
        "#     if filename.endswith('.jpg') or filename.endswith('.jpeg') or filename.endswith('.png'):\n",
        "#         img = image.load_img((testing_dir, filename), target_size=(224, 224))\n",
        "#         x = image.img_to_array(img)\n",
        "#         x = np.expand_dims(x, axis=0)\n",
        "#         x = x / 255.0\n",
        "#         predictions = model.predict(x)\n",
        "#         predicted_class_index = np.argmax(predictions[0])\n",
        "#         predicted_class_label = class_labels[predicted_class_index]\n",
        "#         print(f\"The prediction of {filename} is {predicted_class_label} : {np.max(predictions[0])}\")"
      ],
      "metadata": {
        "colab": {
          "base_uri": "https://localhost:8080/",
          "height": 36
        },
        "id": "yq9fHNHhatNp",
        "outputId": "398dd877-2e22-4a33-c6c7-48220a31584e"
      },
      "execution_count": null,
      "outputs": [
        {
          "output_type": "execute_result",
          "data": {
            "text/plain": [
              "' Ini buat ngetes hasilnya '"
            ],
            "application/vnd.google.colaboratory.intrinsic+json": {
              "type": "string"
            }
          },
          "metadata": {},
          "execution_count": 26
        }
      ]
    },
    {
      "cell_type": "code",
      "source": [],
      "metadata": {
        "id": "02jyJpJccHSm"
      },
      "execution_count": null,
      "outputs": []
    }
  ]
}