{
  "cells": [
    {
      "cell_type": "code",
      "source": [
        "from google.colab import drive\n",
        "drive.mount('/content/drive')"
      ],
      "metadata": {
        "id": "uOL7l1bjOLBJ",
        "colab": {
          "base_uri": "https://localhost:8080/"
        },
        "outputId": "7b0e1880-6e5d-43aa-bb6c-58d29a40786d"
      },
      "execution_count": null,
      "outputs": [
        {
          "output_type": "stream",
          "name": "stdout",
          "text": [
            "Mounted at /content/drive\n"
          ]
        }
      ]
    },
    {
      "cell_type": "code",
      "execution_count": null,
      "metadata": {
        "id": "kFafJT43Kp_L"
      },
      "outputs": [],
      "source": [
        "import os\n",
        "import numpy as np\n",
        "import matplotlib.pyplot as plt\n",
        "\n",
        "from PIL import Image"
      ]
    },
    {
      "cell_type": "code",
      "execution_count": null,
      "metadata": {
        "id": "o0TJ9OvxLYVf"
      },
      "outputs": [],
      "source": [
        "train_dir = \"/content/drive/MyDrive/dataset/images/train\"\n",
        "validation_dir = \"/content/drive/MyDrive/dataset/images/validation\""
      ]
    },
    {
      "cell_type": "code",
      "execution_count": null,
      "metadata": {
        "id": "Y55gH429Lp4d"
      },
      "outputs": [],
      "source": [
        "import tensorflow as tf\n",
        "from tensorflow.keras.preprocessing.image import ImageDataGenerator\n",
        "from tensorflow.keras.models import Sequential\n",
        "from tensorflow.keras.layers import Dense\n",
        "from tensorflow.keras.applications import ResNet50\n",
        "from tensorflow.keras.applications.resnet50 import preprocess_input"
      ]
    },
    {
      "cell_type": "code",
      "execution_count": null,
      "metadata": {
        "id": "_E7GKnvmN3Yl"
      },
      "outputs": [],
      "source": [
        "num_classes = 10\n",
        "image_resize = 224\n",
        "batch_size_training = 100\n",
        "batch_size_validation = 100"
      ]
    },
    {
      "cell_type": "code",
      "execution_count": null,
      "metadata": {
        "id": "DEgZAXBVOIq3"
      },
      "outputs": [],
      "source": [
        "data_generator = ImageDataGenerator(\n",
        "    preprocessing_function=preprocess_input,\n",
        ")"
      ]
    },
    {
      "cell_type": "code",
      "execution_count": null,
      "metadata": {
        "colab": {
          "base_uri": "https://localhost:8080/"
        },
        "id": "_W4l75rCOKx0",
        "outputId": "6b2c1301-fe25-4cc2-8cbe-454b4766dc5c"
      },
      "outputs": [
        {
          "output_type": "stream",
          "name": "stdout",
          "text": [
            "Found 399 images belonging to 10 classes.\n"
          ]
        }
      ],
      "source": [
        "train_generator = data_generator.flow_from_directory(\n",
        "    train_dir,\n",
        "    target_size=(image_resize, image_resize),\n",
        "    batch_size=batch_size_training,\n",
        "    class_mode='categorical')"
      ]
    },
    {
      "cell_type": "code",
      "execution_count": null,
      "metadata": {
        "colab": {
          "base_uri": "https://localhost:8080/"
        },
        "id": "fZzzUYzTONL3",
        "outputId": "f74e6c2c-91d9-4de3-d5f4-e684c98ad50d"
      },
      "outputs": [
        {
          "output_type": "stream",
          "name": "stdout",
          "text": [
            "Found 101 images belonging to 10 classes.\n"
          ]
        }
      ],
      "source": [
        "validation_generator = data_generator.flow_from_directory(\n",
        "    validation_dir,\n",
        "    target_size=(image_resize, image_resize),\n",
        "    batch_size=batch_size_validation,\n",
        "    class_mode='categorical')"
      ]
    },
    {
      "cell_type": "code",
      "execution_count": null,
      "metadata": {
        "id": "ew1MEBIMOPLr"
      },
      "outputs": [],
      "source": [
        "model = Sequential()"
      ]
    },
    {
      "cell_type": "code",
      "execution_count": null,
      "metadata": {
        "id": "tIqfoz5WORbM",
        "colab": {
          "base_uri": "https://localhost:8080/"
        },
        "outputId": "e04c3913-76ae-4ecf-d051-b8bb331206d6"
      },
      "outputs": [
        {
          "output_type": "stream",
          "name": "stdout",
          "text": [
            "Downloading data from https://storage.googleapis.com/tensorflow/keras-applications/resnet/resnet50_weights_tf_dim_ordering_tf_kernels_notop.h5\n",
            "94765736/94765736 [==============================] - 0s 0us/step\n"
          ]
        }
      ],
      "source": [
        "model.add(ResNet50(\n",
        "    include_top=False,\n",
        "    pooling='avg',\n",
        "    weights='imagenet',\n",
        "    ))"
      ]
    },
    {
      "cell_type": "code",
      "execution_count": null,
      "metadata": {
        "id": "YJpYwGBpOTNO"
      },
      "outputs": [],
      "source": [
        "model.add(Dense(num_classes, activation='softmax'))"
      ]
    },
    {
      "cell_type": "code",
      "execution_count": null,
      "metadata": {
        "colab": {
          "base_uri": "https://localhost:8080/"
        },
        "id": "9IWHbY8QOZpN",
        "outputId": "98f16f2f-4ea3-4e80-f404-ae240677a40f"
      },
      "outputs": [
        {
          "output_type": "execute_result",
          "data": {
            "text/plain": [
              "[<keras.src.engine.functional.Functional at 0x7ea722e56230>,\n",
              " <keras.src.layers.core.dense.Dense at 0x7ea7301f4a90>]"
            ]
          },
          "metadata": {},
          "execution_count": 13
        }
      ],
      "source": [
        "model.layers"
      ]
    },
    {
      "cell_type": "code",
      "execution_count": null,
      "metadata": {
        "id": "X7O-qjh9OebH"
      },
      "outputs": [],
      "source": [
        "model.layers[0].trainable = False"
      ]
    },
    {
      "cell_type": "code",
      "execution_count": null,
      "metadata": {
        "colab": {
          "base_uri": "https://localhost:8080/"
        },
        "id": "42MdFaCxOged",
        "outputId": "4980c37b-5c44-49b0-bbb3-8d299a22dc51"
      },
      "outputs": [
        {
          "output_type": "stream",
          "name": "stdout",
          "text": [
            "Model: \"sequential\"\n",
            "_________________________________________________________________\n",
            " Layer (type)                Output Shape              Param #   \n",
            "=================================================================\n",
            " resnet50 (Functional)       (None, 2048)              23587712  \n",
            "                                                                 \n",
            " dense (Dense)               (None, 10)                20490     \n",
            "                                                                 \n",
            "=================================================================\n",
            "Total params: 23608202 (90.06 MB)\n",
            "Trainable params: 20490 (80.04 KB)\n",
            "Non-trainable params: 23587712 (89.98 MB)\n",
            "_________________________________________________________________\n"
          ]
        }
      ],
      "source": [
        "model.summary()"
      ]
    },
    {
      "cell_type": "code",
      "execution_count": null,
      "metadata": {
        "id": "1jBAQcYVOjdM"
      },
      "outputs": [],
      "source": [
        "model.compile(optimizer='adam', loss='categorical_crossentropy', metrics=['accuracy'])"
      ]
    },
    {
      "cell_type": "code",
      "source": [
        "class callBack(tf.keras.callbacks.Callback):\n",
        "    def on_epoch_end(self, epoch, logs={}):\n",
        "        if (logs.get('loss') < 0.05):\n",
        "            print()\n",
        "            print(\"Reached almost 100% accuracy so cancelling training!\")\n",
        "            self.model.stop_training = True\n",
        "\n",
        "callbacks = callBack()"
      ],
      "metadata": {
        "id": "1tfMtiSehvtf"
      },
      "execution_count": null,
      "outputs": []
    },
    {
      "cell_type": "code",
      "execution_count": null,
      "metadata": {
        "id": "5WgsYNbcO2zS"
      },
      "outputs": [],
      "source": [
        "steps_per_epoch_training = len(train_generator)\n",
        "steps_per_epoch_validation = len(validation_generator)\n",
        "num_epochs = 25"
      ]
    },
    {
      "cell_type": "code",
      "execution_count": null,
      "metadata": {
        "colab": {
          "base_uri": "https://localhost:8080/"
        },
        "id": "w-KdakwZO9ul",
        "outputId": "4a29859c-1f57-4a7e-a1dc-a9e806cf7346"
      },
      "outputs": [
        {
          "output_type": "stream",
          "name": "stderr",
          "text": [
            "<ipython-input-19-7092300f027f>:1: UserWarning: `Model.fit_generator` is deprecated and will be removed in a future version. Please use `Model.fit`, which supports generators.\n",
            "  history = model.fit_generator(\n"
          ]
        },
        {
          "output_type": "stream",
          "name": "stdout",
          "text": [
            "Epoch 1/25\n",
            "4/4 [==============================] - 221s 55s/step - loss: 2.5489 - accuracy: 0.1604 - val_loss: 2.0068 - val_accuracy: 0.3366\n",
            "Epoch 2/25\n",
            "4/4 [==============================] - 98s 25s/step - loss: 1.5755 - accuracy: 0.4586 - val_loss: 1.3287 - val_accuracy: 0.5545\n",
            "Epoch 3/25\n",
            "4/4 [==============================] - 100s 26s/step - loss: 0.9703 - accuracy: 0.7243 - val_loss: 0.9189 - val_accuracy: 0.7228\n",
            "Epoch 4/25\n",
            "4/4 [==============================] - 96s 25s/step - loss: 0.6109 - accuracy: 0.8747 - val_loss: 0.6933 - val_accuracy: 0.8020\n",
            "Epoch 5/25\n",
            "4/4 [==============================] - 99s 26s/step - loss: 0.4171 - accuracy: 0.9123 - val_loss: 0.5425 - val_accuracy: 0.8713\n",
            "Epoch 6/25\n",
            "4/4 [==============================] - 99s 26s/step - loss: 0.2911 - accuracy: 0.9524 - val_loss: 0.4474 - val_accuracy: 0.9010\n",
            "Epoch 7/25\n",
            "4/4 [==============================] - 97s 25s/step - loss: 0.2141 - accuracy: 0.9825 - val_loss: 0.3868 - val_accuracy: 0.9109\n",
            "Epoch 8/25\n",
            "4/4 [==============================] - 100s 26s/step - loss: 0.1674 - accuracy: 0.9875 - val_loss: 0.3430 - val_accuracy: 0.9208\n",
            "Epoch 9/25\n",
            "4/4 [==============================] - 97s 25s/step - loss: 0.1331 - accuracy: 0.9925 - val_loss: 0.3142 - val_accuracy: 0.9208\n",
            "Epoch 10/25\n",
            "4/4 [==============================] - 100s 26s/step - loss: 0.1104 - accuracy: 0.9950 - val_loss: 0.2954 - val_accuracy: 0.9208\n",
            "Epoch 11/25\n",
            "4/4 [==============================] - 97s 26s/step - loss: 0.0924 - accuracy: 1.0000 - val_loss: 0.2802 - val_accuracy: 0.9208\n",
            "Epoch 12/25\n",
            "4/4 [==============================] - 117s 32s/step - loss: 0.0796 - accuracy: 1.0000 - val_loss: 0.2695 - val_accuracy: 0.9307\n",
            "Epoch 13/25\n",
            "4/4 [==============================] - 117s 32s/step - loss: 0.0702 - accuracy: 1.0000 - val_loss: 0.2578 - val_accuracy: 0.9406\n",
            "Epoch 14/25\n",
            "4/4 [==============================] - 97s 25s/step - loss: 0.0614 - accuracy: 1.0000 - val_loss: 0.2487 - val_accuracy: 0.9307\n",
            "Epoch 15/25\n",
            "4/4 [==============================] - 99s 25s/step - loss: 0.0557 - accuracy: 1.0000 - val_loss: 0.2377 - val_accuracy: 0.9406\n",
            "Epoch 16/25\n",
            "4/4 [==============================] - 98s 25s/step - loss: 0.0506 - accuracy: 1.0000 - val_loss: 0.2307 - val_accuracy: 0.9406\n",
            "Epoch 17/25\n",
            "4/4 [==============================] - ETA: 0s - loss: 0.0463 - accuracy: 1.0000 \n",
            "Reached almost 100% accuracy so cancelling training!\n",
            "4/4 [==============================] - 99s 26s/step - loss: 0.0463 - accuracy: 1.0000 - val_loss: 0.2263 - val_accuracy: 0.9406\n"
          ]
        }
      ],
      "source": [
        "history = model.fit_generator(\n",
        "    train_generator,\n",
        "    steps_per_epoch=steps_per_epoch_training,\n",
        "    epochs=num_epochs,\n",
        "    validation_data=validation_generator,\n",
        "    validation_steps=steps_per_epoch_validation,\n",
        "    callbacks=callbacks\n",
        ")"
      ]
    },
    {
      "cell_type": "code",
      "execution_count": null,
      "metadata": {
        "id": "SItHs1vEPEe8",
        "colab": {
          "base_uri": "https://localhost:8080/"
        },
        "outputId": "8b3dd5ee-0061-43f6-ecb5-985ef486dba9"
      },
      "outputs": [
        {
          "output_type": "stream",
          "name": "stderr",
          "text": [
            "/usr/local/lib/python3.10/dist-packages/keras/src/engine/training.py:3103: UserWarning: You are saving your model as an HDF5 file via `model.save()`. This file format is considered legacy. We recommend using instead the native Keras format, e.g. `model.save('my_model.keras')`.\n",
            "  saving_api.save_model(\n"
          ]
        }
      ],
      "source": [
        "model.save('classifier_resnet_model.h5')"
      ]
    },
    {
      "cell_type": "code",
      "execution_count": null,
      "metadata": {
        "id": "IR85DodmchIg",
        "colab": {
          "base_uri": "https://localhost:8080/",
          "height": 472
        },
        "outputId": "11b5bb77-56ec-4ae2-9a27-c1bce7bdb987"
      },
      "outputs": [
        {
          "output_type": "display_data",
          "data": {
            "text/plain": [
              "<Figure size 640x480 with 1 Axes>"
            ],
            "image/png": "[encoded data removed]"
          },
          "metadata": {}
        }
      ],
      "source": [
        "# plot loss train & validation\n",
        "plt.plot(history.history['loss'], 'r', label='Training Loss')\n",
        "plt.plot(history.history['val_loss'], 'b', label='Validation Loss')\n",
        "plt.title('Loss & Validation Loss')\n",
        "plt.ylabel('Value')\n",
        "plt.xlabel('Epoch')\n",
        "plt.legend(loc=\"upper right\")\n",
        "plt.show()"
      ]
    },
    {
      "cell_type": "code",
      "source": [
        "# plot accuracy train & validation\n",
        "plt.plot(history.history['accuracy'], 'r', label='Training Accuracy')\n",
        "plt.plot(history.history['val_accuracy'], 'b', label='Validation Accuracy')\n",
        "plt.title('Accuracy & Validation Accuracy')\n",
        "plt.ylabel('Value')\n",
        "plt.xlabel('Epoch')\n",
        "plt.legend(loc=\"lower right\")\n",
        "plt.show()"
      ],
      "metadata": {
        "id": "b4m2SowUs_8L",
        "colab": {
          "base_uri": "https://localhost:8080/",
          "height": 472
        },
        "outputId": "e87f90bc-0e44-44de-96ff-639ff39ba368"
      },
      "execution_count": null,
      "outputs": [
        {
          "output_type": "display_data",
          "data": {
            "text/plain": [
              "<Figure size 640x480 with 1 Axes>"
            ],
            "image/png": "[encoded data removed]"
          },
          "metadata": {}
        }
      ]
    },
    {
      "cell_type": "code",
      "source": [
        "# from keras.models import load_model\n",
        "# from keras.preprocessing import image\n",
        "# import numpy as np\n",
        "# import io\n",
        "# from google.colab import files\n",
        "\n",
        "# model = load_model('classifier_resnet_model.h5')\n",
        "# uploaded = files.upload()\n",
        "\n",
        "# for filename in uploaded.keys():\n",
        "#     img_bytes = uploaded[filename]\n",
        "#     img = Image.open(io.BytesIO(img_bytes))\n",
        "#     img = img.resize((224, 224))\n",
        "#     img = np.array(img) / 255.0\n",
        "#     img = np.expand_dims(img, axis=0)\n",
        "#     plt.imshow(img[0])\n",
        "#     plt.axis('off')\n",
        "#     plt.show()\n",
        "\n",
        "# predictions = model.predict(img)\n",
        "# predicted_class = np.argmax(predictions)\n",
        "# predicted_class_label = class_labels[predicted_class_index]\n",
        "# print(\"Predicted Class:\", predicted_class_label)\n",
        "\n"
      ],
      "metadata": {
        "id": "EtDI8pi_g_Wg"
      },
      "execution_count": null,
      "outputs": []
    }
  ],
  "metadata": {
    "accelerator": "GPU",
    "colab": {
      "provenance": []
    },
    "kernelspec": {
      "display_name": "Python 3",
      "language": "python",
      "name": "python3"
    },
    "language_info": {
      "codemirror_mode": {
        "name": "ipython",
        "version": 3
      },
      "file_extension": ".py",
      "mimetype": "text/x-python",
      "name": "python",
      "nbconvert_exporter": "python",
      "pygments_lexer": "ipython3",
      "version": "3.7.3"
    }
  },
  "nbformat": 4,
  "nbformat_minor": 0
}